{
 "cells": [
  {
   "cell_type": "code",
   "execution_count": 1,
   "metadata": {},
   "outputs": [],
   "source": [
    "import torch\n",
    "import numpy as np\n",
    "import xgboost as xgb\n",
    "\n",
    "from sklearn.metrics import mean_squared_error\n",
    "\n",
    "from XGBoostTools import *"
   ]
  },
  {
   "cell_type": "code",
   "execution_count": 2,
   "metadata": {},
   "outputs": [
    {
     "name": "stdout",
     "output_type": "stream",
     "text": [
      "\n",
      "Reading file .../data3/WZ_new_project/xgboost/../h5/Ideal_Reweighted_Latent_Data_Coefficients//trainingSampleReweightedLarge_Latent.h5\n",
      "Data Type = torch.float32. Global variable torch.set_default_dtype set to torch.float32.\n",
      "\n",
      "Reading file .../data3/WZ_new_project/xgboost/../h5/Ideal_Reweighted_Latent_Data_Coefficients//testingSampleReweightedLarge_Latent.h5\n",
      "Data Type = torch.float32. Global variable torch.set_default_dtype set to torch.float32.\n"
     ]
    }
   ],
   "source": [
    "td, tdtest = LoadDibosonData(int(1e7))"
   ]
  },
  {
   "cell_type": "markdown",
   "metadata": {},
   "source": [
    "### default xgboost classifier"
   ]
  },
  {
   "cell_type": "code",
   "execution_count": 47,
   "metadata": {},
   "outputs": [],
   "source": [
    "dtrain, dtest, smweights, bsmweights = ConstructDMatrixData(td, tdtest, gw=0.01)"
   ]
  },
  {
   "cell_type": "code",
   "execution_count": 32,
   "metadata": {},
   "outputs": [
    {
     "data": {
      "text/plain": [
       "tensor([0.0523, 0.0034], device='cuda:0')"
      ]
     },
     "execution_count": 32,
     "metadata": {},
     "output_type": "execute_result"
    }
   ],
   "source": [
    "regressor = xgb.train({'tree_method': 'hist', 'seed': 1994},\n",
    "                      dtrain=dtrain,\n",
    "                      num_boost_round=10,)\n",
    "\n",
    "y_pred = regressor.predict(dtest)\n",
    "\n",
    "NeymanPearsonTestXGBoost(y_pred, smweights, bsmweights, 3000)"
   ]
  },
  {
   "cell_type": "markdown",
   "metadata": {},
   "source": [
    "### customised loss: quadratic"
   ]
  },
  {
   "cell_type": "code",
   "execution_count": 33,
   "metadata": {},
   "outputs": [],
   "source": [
    "def gradient(predt: np.ndarray, dtrain: np.ndarray) -> np.ndarray:\n",
    "    y = dtrain.get_label()\n",
    "    w = dtrain.get_weight()\n",
    "    return 2.*w*(predt - y)\n",
    "\n",
    "def hessian(predt: np.ndarray, dtrain: np.ndarray) -> np.ndarray:\n",
    "    y = dtrain.get_label()\n",
    "    w = dtrain.get_weight()\n",
    "    return 2.*w\n",
    "\n",
    "def my_quadratic(predt: np.ndarray, dtrain: np.ndarray)  -> np.ndarray:\n",
    "    grad = gradient(predt, dtrain)\n",
    "    hess = hessian(predt, dtrain)\n",
    "    return grad, hess"
   ]
  },
  {
   "cell_type": "code",
   "execution_count": 47,
   "metadata": {},
   "outputs": [],
   "source": [
    "dtrain, dtest, smweights, bsmweights = ConstructDMatrixData(td, tdtest, gw=0.01)"
   ]
  },
  {
   "cell_type": "code",
   "execution_count": 34,
   "metadata": {},
   "outputs": [
    {
     "data": {
      "text/plain": [
       "tensor([0.0522, 0.0031], device='cuda:0')"
      ]
     },
     "execution_count": 34,
     "metadata": {},
     "output_type": "execute_result"
    }
   ],
   "source": [
    "regressor_custom = xgb.train({'tree_method': 'hist', 'seed': 1994},\n",
    "                      dtrain=dtrain,\n",
    "                      num_boost_round=10,\n",
    "                      obj=my_quadratic)\n",
    "\n",
    "y_pred = regressor_custom.predict(dtest)\n",
    "\n",
    "NeymanPearsonTestXGBoost(y_pred, smweights, bsmweights, 3000)"
   ]
  },
  {
   "cell_type": "markdown",
   "metadata": {},
   "source": [
    "### learning a and b separately"
   ]
  },
  {
   "cell_type": "code",
   "execution_count": 3,
   "metadata": {},
   "outputs": [
    {
     "name": "stdout",
     "output_type": "stream",
     "text": [
      "\n",
      "Reading file .../data3/WZ_new_project/xgboost/../h5/Ideal_Reweighted_Latent_Data_Coefficients//trainingSampleReweightedLarge_Latent.h5\n",
      "Data Type = torch.float32. Global variable torch.set_default_dtype set to torch.float32.\n",
      "\n",
      "Reading file .../data3/WZ_new_project/xgboost/../h5/Ideal_Reweighted_Latent_Data_Coefficients//testingSampleReweightedLarge_Latent.h5\n",
      "Data Type = torch.float32. Global variable torch.set_default_dtype set to torch.float32.\n"
     ]
    }
   ],
   "source": [
    "td, tdtest = LoadDibosonData(int(1e7))"
   ]
  },
  {
   "cell_type": "code",
   "execution_count": 4,
   "metadata": {},
   "outputs": [],
   "source": [
    "def ConstructDTrain2D(td, log=False):    \n",
    "    data      = td.Data.numpy()\n",
    "    \n",
    "    if log:\n",
    "        data[:, 0] = np.log(data[:, 0])\n",
    "        data[:, 4] = np.log(data[:, 4])\n",
    "    \n",
    "    a, b      = td.ReweightCoeffs[:, 1], td.ReweightCoeffs[:, 3]\n",
    "    \n",
    "    stats     = {'a_mean': a.mean(), 'a_std': a.std(), \n",
    "                'b_mean': b.mean(), 'b_std': b.std()}\n",
    "    \n",
    "    a, b      = (a - a.mean())/a.std(), (b - b.mean())/b.std()\n",
    "        \n",
    "    dtrain    = [xgb.DMatrix(data, label=a), xgb.DMatrix(data, label=b)]\n",
    "            \n",
    "    return dtrain, stats, data\n",
    "\n",
    "def ConstructDTest(tdtest, gphi=0., gw=0., log=False):\n",
    "    rwval      = torch.Tensor([gphi, gw])\n",
    "    wilson     = torch.cat([rwval, rwval**2, rwval.prod().reshape(1)]).reshape(-1, 1)\n",
    "\n",
    "    datatest   = tdtest.Data.numpy()\n",
    "    \n",
    "    if log:\n",
    "        datatest[:, 0] = np.log(datatest[:, 0])\n",
    "        datatest[:, 4] = np.log(datatest[:, 4])\n",
    "    \n",
    "    dtest      = xgb.DMatrix(datatest)\n",
    "    \n",
    "    smweights  = tdtest.Weights\n",
    "    bsmweights = tdtest.ReweightCoeffs.mm(wilson).flatten()\n",
    "    \n",
    "    return dtest, smweights, bsmweights, datatest"
   ]
  },
  {
   "cell_type": "code",
   "execution_count": 5,
   "metadata": {},
   "outputs": [],
   "source": [
    "dtrain, stats, data = ConstructDTrain2D(td)\n",
    "\n",
    "regressor_a = xgb.train({'tree_method': 'hist'},\n",
    "                      dtrain=dtrain[0],\n",
    "                      num_boost_round=10)\n",
    "\n",
    "regressor_b = xgb.train({'tree_method': 'hist'},\n",
    "                      dtrain=dtrain[1],\n",
    "                      num_boost_round=10)"
   ]
  },
  {
   "cell_type": "code",
   "execution_count": 7,
   "metadata": {},
   "outputs": [
    {
     "data": {
      "text/plain": [
       "tensor([0.5062, 0.5052, 0.5116,  ..., 0.5053, 0.4951, 0.4995])"
      ]
     },
     "execution_count": 7,
     "metadata": {},
     "output_type": "execute_result"
    }
   ],
   "source": [
    "dtest, smweights, bsmweights, datatest =  ConstructDTest(tdtest, gw=0.01)\n",
    "\n",
    "a_pred = regressor_a.predict(dtest)*stats['a_std'].numpy() + stats['a_mean'].numpy()\n",
    "b_pred = regressor_b.predict(dtest)*stats['b_std'].numpy() + stats['b_mean'].numpy()\n",
    "reweights_pred = smweights + a_pred*0.02 + b_pred*(0.02**2)\n",
    "rho_pred       = reweights_pred/smweights\n",
    "y_pred         = rho_pred/(1. + rho_pred)\n",
    "y_pred"
   ]
  },
  {
   "cell_type": "code",
   "execution_count": 8,
   "metadata": {},
   "outputs": [
    {
     "data": {
      "text/plain": [
       "tensor([0.0576, 0.0038], device='cuda:0')"
      ]
     },
     "execution_count": 8,
     "metadata": {},
     "output_type": "execute_result"
    }
   ],
   "source": [
    "NeymanPearsonTestXGBoost(y_pred, smweights, bsmweights, 3000)"
   ]
  },
  {
   "cell_type": "markdown",
   "metadata": {},
   "source": [
    "### Parameter tunining"
   ]
  },
  {
   "cell_type": "code",
   "execution_count": 9,
   "metadata": {},
   "outputs": [],
   "source": [
    "dtrain, stats, data = ConstructDTrain2D(td)"
   ]
  },
  {
   "cell_type": "code",
   "execution_count": null,
   "metadata": {},
   "outputs": [],
   "source": [
    "regressor_a=xgb.XGBRegressor(eval_metric='rmsle', tree_method='gpu_hist')\n",
    "\n",
    "regressor_b=xgb.XGBRegressor(eval_metric='rmsle', tree_method='gpu_hist')\n",
    "\n",
    "#=========================================================================\n",
    "# exhaustively search for the optimal hyperparameters\n",
    "#=========================================================================\n",
    "from sklearn.model_selection import GridSearchCV\n",
    "# set up our search grid\n",
    "param_grid = {\"n_estimators\": [10, 20, 50, 100],\n",
    "             \"max_depth\": [5, 10, 20, 50]}\n",
    "\n",
    "# try out every combination of the above values\n",
    "search_a = GridSearchCV(regressor_a, param_grid, cv=5).fit(data, dtrain[0].get_label())\n",
    "\n",
    "search_b = GridSearchCV(regressor_b, param_grid, cv=5).fit(data, dtrain[1].get_label())\n",
    "\n",
    "print(\"The best hyperparameters are \", search.best_params_)"
   ]
  },
  {
   "cell_type": "code",
   "execution_count": null,
   "metadata": {},
   "outputs": [],
   "source": [
    "regressor_a =xgb.XGBRegressor(n_estimators  = search_a.best_params_[\"n_estimators\"],\n",
    "                           max_depth     = search_a.best_params_[\"max_depth\"], tree_method='gpu_hist')\n",
    "\n",
    "regressor_a.fit(data, dtrain[0].get_label())\n",
    "\n",
    "regressor_b = xgb.XGBRegressor(n_estimators  = search_b.best_params_[\"n_estimators\"],\n",
    "                           max_depth     = search_b.best_params_[\"max_depth\"],  tree_method='gpu_hist')\n",
    "\n",
    "regressor_b.fit(data, dtrain[1].get_label())"
   ]
  },
  {
   "cell_type": "code",
   "execution_count": null,
   "metadata": {},
   "outputs": [],
   "source": [
    "dtest, smweights, bsmweights, datatest =  ConstructDTest(tdtest, gw=0.01)\n",
    "\n",
    "a_pred = regressor_a.predict(datatest)*stats['a_std'].numpy() + stats['a_mean'].numpy()\n",
    "b_pred = regressor_b.predict(datatest)*stats['b_std'].numpy() + stats['b_mean'].numpy()\n",
    "reweights_pred = smweights + a_pred*0.02 + b_pred*(0.02**2)\n",
    "rho_pred       = reweights_pred/smweights\n",
    "y_pred         = rho_pred/(1. + rho_pred)\n",
    "print(y_pred)\n",
    "\n",
    "NeymanPearsonTestXGBoost(y_pred, smweights, bsmweights, 3000)"
   ]
  },
  {
   "cell_type": "code",
   "execution_count": null,
   "metadata": {},
   "outputs": [],
   "source": []
  },
  {
   "cell_type": "code",
   "execution_count": null,
   "metadata": {},
   "outputs": [],
   "source": []
  },
  {
   "cell_type": "code",
   "execution_count": null,
   "metadata": {},
   "outputs": [],
   "source": []
  },
  {
   "cell_type": "code",
   "execution_count": null,
   "metadata": {},
   "outputs": [],
   "source": []
  },
  {
   "cell_type": "code",
   "execution_count": null,
   "metadata": {},
   "outputs": [],
   "source": []
  },
  {
   "cell_type": "code",
   "execution_count": null,
   "metadata": {},
   "outputs": [],
   "source": []
  },
  {
   "cell_type": "code",
   "execution_count": null,
   "metadata": {},
   "outputs": [],
   "source": []
  },
  {
   "cell_type": "code",
   "execution_count": null,
   "metadata": {},
   "outputs": [],
   "source": []
  },
  {
   "cell_type": "code",
   "execution_count": null,
   "metadata": {},
   "outputs": [],
   "source": []
  },
  {
   "cell_type": "code",
   "execution_count": null,
   "metadata": {},
   "outputs": [],
   "source": []
  },
  {
   "cell_type": "code",
   "execution_count": null,
   "metadata": {},
   "outputs": [],
   "source": []
  },
  {
   "cell_type": "code",
   "execution_count": 101,
   "metadata": {},
   "outputs": [],
   "source": [
    "#a_pred  = y_pred[:, 0]*stats['a_std'].numpy() + stats['a_mean'].numpy()\n",
    "#b_pred = y_pred[:, 1]*stats['b_std'].numpy() + stats['b_mean'].numpy()"
   ]
  },
  {
   "cell_type": "code",
   "execution_count": 78,
   "metadata": {},
   "outputs": [],
   "source": [
    "# numpy version with gradient and hessian\n",
    "#Manual calculate the gradient and hessian then implement the custom metric\n",
    "def gradient(predt: np.ndarray, dtrain: np.ndarray) -> np.ndarray:\n",
    "    y = dtrain.get_label()\n",
    "    return (np.log(predt)-np.log1p(y))/(predt+1)\n",
    "\n",
    "def hessian(predt: np.ndarray, dtrain: np.ndarray) -> np.ndarray:\n",
    "    y = dtrain.get_label()\n",
    "    return (-np.log1p(predt)+np.log1p(y)+1)/np.power(predt+1, 2)\n",
    "    \n",
    "#return the grad and hessian\n",
    "def squared_log(predt: np.ndarray, dtrain: np.ndarray) -> np.ndarray:\n",
    "    predt[predt < -1] = -1+1e-6\n",
    "    grad = gradient(predt, dtrain)\n",
    "    hess = hessian(predt, dtrain)\n",
    "    return grad, hess\n",
    "\n",
    "\n",
    "def gradient(predt: np.ndarray, dtrain: np.ndarray) -> np.ndarray:\n",
    "    y = dtrain.get_label()\n",
    "    return 2.*(predt - y)\n",
    "\n",
    "def hessian(predt: np.ndarray, dtrain: np.ndarray) -> np.ndarray:\n",
    "    y = dtrain.get_label()\n",
    "    return 2.*np.ones_like(predt)\n",
    "\n",
    "def my_quadratic(predt: np.ndarray, dtrain: np.ndarray)  -> np.ndarray:\n",
    "    \n",
    "    grad = gradient(predt, dtrain)\n",
    "    hess = hessian(predt, dtrain)\n",
    "    return grad, hess"
   ]
  },
  {
   "cell_type": "code",
   "execution_count": 76,
   "metadata": {},
   "outputs": [
    {
     "data": {
      "text/plain": [
       "109.77569745300839"
      ]
     },
     "execution_count": 76,
     "metadata": {},
     "output_type": "execute_result"
    }
   ],
   "source": [
    "X_train, X_test, y_train, y_test = train_test_split(X, y)\n",
    "\n",
    "weight = torch.empty(len(X_train)).uniform_()\n",
    "weight = weight/weight.mean()\n",
    "\n",
    "dtrain = xgb.DMatrix(X_train, label=y_train)\n",
    "dtest  = xgb.DMatrix(X_test)\n",
    "\n",
    "regressor = xgb.train({'tree_method': 'hist', 'seed': 1994},\n",
    "                      dtrain=dtrain,\n",
    "                      num_boost_round=100,\n",
    "                      obj=squared_log)\n",
    "\n",
    "y_pred = regressor.predict(dtest)\n",
    "\n",
    "mean_squared_error(y_test, y_pred)"
   ]
  },
  {
   "cell_type": "code",
   "execution_count": 82,
   "metadata": {},
   "outputs": [
    {
     "data": {
      "text/plain": [
       "6.076948776711798"
      ]
     },
     "execution_count": 82,
     "metadata": {},
     "output_type": "execute_result"
    }
   ],
   "source": [
    "X_train, X_test, y_train, y_test = train_test_split(X, y)\n",
    "\n",
    "weight = torch.empty(len(X_train)).uniform_()\n",
    "weight = weight/weight.mean()\n",
    "\n",
    "dtrain = xgb.DMatrix(X_train, label=y_train)\n",
    "dtest  = xgb.DMatrix(X_test)\n",
    "\n",
    "regressor = xgb.train({'tree_method': 'hist', 'seed': 1994},\n",
    "                      dtrain=dtrain,\n",
    "                      num_boost_round=100,\n",
    "                      obj=my_quadratic)\n",
    "\n",
    "y_pred = regressor.predict(dtest)\n",
    "\n",
    "mean_squared_error(y_test, y_pred)"
   ]
  },
  {
   "cell_type": "code",
   "execution_count": null,
   "metadata": {},
   "outputs": [],
   "source": []
  }
 ],
 "metadata": {
  "kernelspec": {
   "display_name": "Python 3",
   "language": "python",
   "name": "python3"
  },
  "language_info": {
   "codemirror_mode": {
    "name": "ipython",
    "version": 3
   },
   "file_extension": ".py",
   "mimetype": "text/x-python",
   "name": "python",
   "nbconvert_exporter": "python",
   "pygments_lexer": "ipython3",
   "version": "3.8.5"
  }
 },
 "nbformat": 4,
 "nbformat_minor": 4
}
